{
 "cells": [
  {
   "cell_type": "code",
   "execution_count": 1,
   "metadata": {},
   "outputs": [],
   "source": [
    "# Author : Neel V Zadafiya (1115533)\n",
    "\n",
    "#Import required libraries\n",
    "import pytholog as pl"
   ]
  },
  {
   "cell_type": "code",
   "execution_count": 2,
   "metadata": {},
   "outputs": [],
   "source": [
    "# Define class\n",
    "class SimpsonFamily:\n",
    "    \n",
    "    # Constructor function\n",
    "    def __init__(self):\n",
    "        \n",
    "        # Set knowledge base\n",
    "        self.family_base = pl.KnowledgeBase(\"simpson_family\")\n",
    "\n",
    "        # Define predicates and clauses\n",
    "        self.family_base([\n",
    "            \n",
    "            # Father relations : X is father of Y\n",
    "             \"father(abe,herb)\",\n",
    "             \"father(abe,homer)\",\n",
    "             \"father(clancy,marge)\",\n",
    "             \"father(clancy,patty)\",\n",
    "             \"father(clancy,selma)\",\n",
    "             \"father(homer,bart)\",\n",
    "             \"father(homer,lisa)\",\n",
    "             \"father(homer,maggie)\",\n",
    "             \n",
    "            # Mother relations : X is mother of Y\n",
    "             \"mother(mona,herb)\",\n",
    "             \"mother(mona,homer)\",\n",
    "             \"mother(jacqueline,marge)\",\n",
    "             \"mother(jacqueline,patty)\",\n",
    "             \"mother(jacqueline,selma)\",\n",
    "             \"mother(marge,bart)\",\n",
    "             \"mother(marge,lisa)\",\n",
    "             \"mother(marge,maggie)\",\n",
    "             \"mother(selma,ling)\",\n",
    "             \n",
    "            # Males : X is male\n",
    "             \"male(abe)\",\n",
    "             \"male(clancy)\",\n",
    "             \"male(herb)\",\n",
    "             \"male(homer)\",\n",
    "             \"male(bart)\",\n",
    "             \n",
    "            # Females : X is female\n",
    "             \"female(mona)\",\n",
    "             \"female(jacqueline)\",\n",
    "             \"female(marge)\",\n",
    "             \"female(patty)\",\n",
    "             \"female(selma)\",\n",
    "             \"female(lisa)\",\n",
    "             \"female(maggie)\",\n",
    "             \"female(ling)\",\n",
    "             \n",
    "            # 1. Parent clause : X is parent of Y\n",
    "            # X is either mother of father of Y\n",
    "             \"parent(X,Y) :- father(X,Y)\",\n",
    "             \"parent(X,Y) :- mother(X,Y)\",\n",
    "             \n",
    "            # 2. Brother caluse : X is brother of Y\n",
    "            # X and Y has same father M and same mother N\n",
    "            # X is male and not same as Y\n",
    "             \"brother(X,Y) :- father(M,X), father(M,Y), mother(N,X), mother(N,Y), male(X), neq(X,Y)\",\n",
    "            \n",
    "            # 3. Sister caluse : X is sister of Y\n",
    "            # X and Y has same father M and same mother N\n",
    "            # X is female and not same as Y\n",
    "             \"sister(X,Y) :- father(M,X), father(M,Y), mother(N,X), mother(N,Y), female(X), neq(X,Y)\",\n",
    "             \n",
    "            # 6. Grand parent clause : X is grand parent of Y\n",
    "            # X is parent of M and M is parent of Y\n",
    "             \"grand_parent(X,Y) :- parent(X,M), parent(M,Y)\",\n",
    "            \n",
    "            # 4. Grand father clause: X is grand father of Y\n",
    "            # X is male and grand parent of Y\n",
    "             \"grand_father(X,Y) :- grand_parent(X,Y), male(X)\",\n",
    "            \n",
    "            # 5. Grand mother clause: X is grand father of Y\n",
    "            # X is female and grand parent of Y\n",
    "             \"grand_mother(X,Y) :- grand_parent(X,Y), female(X)\",\n",
    "             \n",
    "            # 7. Uncle clause: X is uncle of Y\n",
    "            # Parent M of Y is brother of X\n",
    "             \"uncle(X,Y) :- parent(M,Y), brother(X,M)\",\n",
    "            \n",
    "            # 8. Aunt clause: X is aunt of Y\n",
    "            # Parent M of Y is sister of X\n",
    "             \"aunt(X,Y) :- parent(M,Y), sister(X,M)\",\n",
    "             \n",
    "            # 9.1 Nephew clause: X is nephew of Y\n",
    "            # Y is either uncle or aunt of X and X is male\n",
    "             \"nephew(X,Y) :- uncle(Y,X), male(X)\",\n",
    "             \"nephew(X,Y) :- aunt(Y,X), male(X)\",\n",
    "             \n",
    "            # 9.2 Niece clause: X is niece of Y\n",
    "            # Y is either uncle or aunt of X and X is female\n",
    "             \"niece(X,Y) :- uncle(Y,X), female(X)\",\n",
    "             \"niece(X,Y) :- aunt(Y,X), female(X)\",\n",
    "             \n",
    "            # 9.3 Sibling clause: X is sibling of Y\n",
    "            # X is either brother of sister of Y\n",
    "             \"sibling(X,Y) :- brother(X,Y)\",\n",
    "             \"sibling(X,Y) :- sister(X,Y)\"\n",
    "             \n",
    "            ])\n",
    "        \n",
    "    # Test function to display relations between two people\n",
    "    # This function takes three parameters, First is relation followed by person1 and person2\n",
    "    def test_relation(self,relation,person1,person2):\n",
    "        \n",
    "        # Display title\n",
    "        print(\"Testing relation: \"+relation+\" between \"+person1+\" and \"+person2)\n",
    "        print()\n",
    "        \n",
    "        # Display notmal output of query\n",
    "        print(\"Is \"+person1+\" \"+relation+\" of \"+person2+\" ?\")\n",
    "        answer = self.family_base.query(pl.Expr(relation+\"(\"+person1+\",\"+person2+\")\"))\n",
    "        print(answer[0])\n",
    "        print()\n",
    "        \n",
    "        # Display output of query with swapped arguments\n",
    "        print(\"Is \"+person2+\" \"+relation+\" of \"+person1+\" ?\")\n",
    "        answer = self.family_base.query(pl.Expr(relation+\"(\"+person2+\",\"+person1+\")\"))\n",
    "        print(answer[0])\n",
    "        print()\n",
    "        \n",
    "        # Display who is related to person 1\n",
    "        print(\"Whose \"+relation+\" is \"+person1+\"?\")\n",
    "        answer = self.family_base.query(pl.Expr(relation+\"(\"+person1+\",Who)\"))\n",
    "        if answer[0] != \"No\":\n",
    "            for i in answer:\n",
    "                print(i['Who'],end=\", \")\n",
    "            print()\n",
    "        else:\n",
    "            print(\"No one's\")\n",
    "        print()\n",
    "        \n",
    "        # Display person 1 is realated to whom\n",
    "        print(\"Who is(are) \"+relation+\"(s) of \"+person2+\" ?\")\n",
    "        answer = self.family_base.query(pl.Expr(relation+\"(Who,\"+person2+\")\"))\n",
    "        if answer[0] != \"No\":\n",
    "            for i in answer:\n",
    "                print(i['Who'],end=\", \")\n",
    "            print()\n",
    "        else:\n",
    "            print(\"No one\")\n",
    "        print()\n",
    "        print()\n",
    "        \n",
    "# End of class SimpsonFamily"
   ]
  },
  {
   "cell_type": "code",
   "execution_count": 3,
   "metadata": {},
   "outputs": [],
   "source": [
    "# Get object of defined class\n",
    "sf = SimpsonFamily()"
   ]
  },
  {
   "cell_type": "code",
   "execution_count": 4,
   "metadata": {},
   "outputs": [
    {
     "name": "stdout",
     "output_type": "stream",
     "text": [
      "Testing relation: parent between homer and bart\n",
      "\n",
      "Is homer parent of bart ?\n",
      "Yes\n",
      "\n",
      "Is bart parent of homer ?\n",
      "No\n",
      "\n",
      "Whose parent is homer?\n",
      "bart, lisa, maggie, \n",
      "\n",
      "Who is(are) parent(s) of bart ?\n",
      "homer, marge, \n",
      "\n",
      "\n"
     ]
    }
   ],
   "source": [
    "# Check parent relation between homer and bart\n",
    "sf.test_relation(\"parent\",\"homer\",\"bart\")"
   ]
  },
  {
   "cell_type": "code",
   "execution_count": 5,
   "metadata": {},
   "outputs": [
    {
     "name": "stdout",
     "output_type": "stream",
     "text": [
      "Testing relation: brother between bart and lisa\n",
      "\n",
      "Is bart brother of lisa ?\n",
      "Yes\n",
      "\n",
      "Is lisa brother of bart ?\n",
      "No\n",
      "\n",
      "Whose brother is bart?\n",
      "lisa, maggie, \n",
      "\n",
      "Who is(are) brother(s) of lisa ?\n",
      "bart, \n",
      "\n",
      "\n"
     ]
    }
   ],
   "source": [
    "# Check brother relation between bart and lisa\n",
    "sf.test_relation(\"brother\",\"bart\",\"lisa\")"
   ]
  },
  {
   "cell_type": "code",
   "execution_count": 6,
   "metadata": {},
   "outputs": [
    {
     "name": "stdout",
     "output_type": "stream",
     "text": [
      "Testing relation: sister between lisa and bart\n",
      "\n",
      "Is lisa sister of bart ?\n",
      "Yes\n",
      "\n",
      "Is bart sister of lisa ?\n",
      "No\n",
      "\n",
      "Whose sister is lisa?\n",
      "bart, maggie, \n",
      "\n",
      "Who is(are) sister(s) of bart ?\n",
      "lisa, maggie, \n",
      "\n",
      "\n"
     ]
    }
   ],
   "source": [
    "# Check sister relation between lisa and bart\n",
    "sf.test_relation(\"sister\",\"lisa\",\"bart\")"
   ]
  },
  {
   "cell_type": "code",
   "execution_count": 7,
   "metadata": {},
   "outputs": [
    {
     "name": "stdout",
     "output_type": "stream",
     "text": [
      "Testing relation: grand_father between abe and bart\n",
      "\n",
      "Is abe grand_father of bart ?\n",
      "Yes\n",
      "\n",
      "Is bart grand_father of abe ?\n",
      "No\n",
      "\n",
      "Whose grand_father is abe?\n",
      "bart, lisa, maggie, \n",
      "\n",
      "Who is(are) grand_father(s) of bart ?\n",
      "abe, clancy, \n",
      "\n",
      "\n"
     ]
    }
   ],
   "source": [
    "# Check grand father relation between abe and bart\n",
    "sf.test_relation(\"grand_father\",\"abe\",\"bart\")"
   ]
  },
  {
   "cell_type": "code",
   "execution_count": 8,
   "metadata": {},
   "outputs": [
    {
     "name": "stdout",
     "output_type": "stream",
     "text": [
      "Testing relation: grand_mother between mona and bart\n",
      "\n",
      "Is mona grand_mother of bart ?\n",
      "Yes\n",
      "\n",
      "Is bart grand_mother of mona ?\n",
      "No\n",
      "\n",
      "Whose grand_mother is mona?\n",
      "bart, lisa, maggie, \n",
      "\n",
      "Who is(are) grand_mother(s) of bart ?\n",
      "jacqueline, mona, \n",
      "\n",
      "\n"
     ]
    }
   ],
   "source": [
    "# Check grand mother relation between mona and bart\n",
    "sf.test_relation(\"grand_mother\",\"mona\",\"bart\")"
   ]
  },
  {
   "cell_type": "code",
   "execution_count": 9,
   "metadata": {},
   "outputs": [
    {
     "name": "stdout",
     "output_type": "stream",
     "text": [
      "Testing relation: grand_parent between abe and bart\n",
      "\n",
      "Is abe grand_parent of bart ?\n",
      "Yes\n",
      "\n",
      "Is bart grand_parent of abe ?\n",
      "No\n",
      "\n",
      "Whose grand_parent is abe?\n",
      "bart, lisa, maggie, \n",
      "\n",
      "Who is(are) grand_parent(s) of bart ?\n",
      "abe, clancy, jacqueline, mona, \n",
      "\n",
      "\n"
     ]
    }
   ],
   "source": [
    "# Check grand parent relation between abe and bart\n",
    "sf.test_relation(\"grand_parent\",\"abe\",\"bart\")"
   ]
  },
  {
   "cell_type": "code",
   "execution_count": 10,
   "metadata": {},
   "outputs": [
    {
     "name": "stdout",
     "output_type": "stream",
     "text": [
      "Testing relation: uncle between herb and bart\n",
      "\n",
      "Is herb uncle of bart ?\n",
      "Yes\n",
      "\n",
      "Is bart uncle of herb ?\n",
      "No\n",
      "\n",
      "Whose uncle is herb?\n",
      "bart, lisa, maggie, \n",
      "\n",
      "Who is(are) uncle(s) of bart ?\n",
      "herb, \n",
      "\n",
      "\n"
     ]
    }
   ],
   "source": [
    "# Check uncle relation between herb and bart\n",
    "sf.test_relation(\"uncle\",\"herb\",\"bart\")"
   ]
  },
  {
   "cell_type": "code",
   "execution_count": 11,
   "metadata": {},
   "outputs": [
    {
     "name": "stdout",
     "output_type": "stream",
     "text": [
      "Testing relation: aunt between patty and bart\n",
      "\n",
      "Is patty aunt of bart ?\n",
      "Yes\n",
      "\n",
      "Is bart aunt of patty ?\n",
      "No\n",
      "\n",
      "Whose aunt is patty?\n",
      "bart, lisa, maggie, ling, \n",
      "\n",
      "Who is(are) aunt(s) of bart ?\n",
      "patty, selma, \n",
      "\n",
      "\n"
     ]
    }
   ],
   "source": [
    "# Check aunt relation between patty and bart\n",
    "sf.test_relation(\"aunt\",\"patty\",\"bart\")"
   ]
  },
  {
   "cell_type": "code",
   "execution_count": 12,
   "metadata": {},
   "outputs": [
    {
     "name": "stdout",
     "output_type": "stream",
     "text": [
      "Testing relation: nephew between bart and herb\n",
      "\n",
      "Is bart nephew of herb ?\n",
      "Yes\n",
      "\n",
      "Is herb nephew of bart ?\n",
      "No\n",
      "\n",
      "Whose nephew is bart?\n",
      "herb, patty, selma, \n",
      "\n",
      "Who is(are) nephew(s) of herb ?\n",
      "bart, \n",
      "\n",
      "\n"
     ]
    }
   ],
   "source": [
    "# Check nephew relation between bart and herb\n",
    "sf.test_relation(\"nephew\",\"bart\",\"herb\")"
   ]
  },
  {
   "cell_type": "code",
   "execution_count": 13,
   "metadata": {},
   "outputs": [
    {
     "name": "stdout",
     "output_type": "stream",
     "text": [
      "Testing relation: niece between lisa and herb\n",
      "\n",
      "Is lisa niece of herb ?\n",
      "Yes\n",
      "\n",
      "Is herb niece of lisa ?\n",
      "No\n",
      "\n",
      "Whose niece is lisa?\n",
      "herb, patty, selma, \n",
      "\n",
      "Who is(are) niece(s) of herb ?\n",
      "lisa, maggie, \n",
      "\n",
      "\n"
     ]
    }
   ],
   "source": [
    "# Check niece relation between lisa and herb\n",
    "sf.test_relation(\"niece\",\"lisa\",\"herb\")"
   ]
  },
  {
   "cell_type": "code",
   "execution_count": 14,
   "metadata": {},
   "outputs": [
    {
     "name": "stdout",
     "output_type": "stream",
     "text": [
      "Testing relation: sibling between bart and lisa\n",
      "\n",
      "Is bart sibling of lisa ?\n",
      "Yes\n",
      "\n",
      "Is lisa sibling of bart ?\n",
      "Yes\n",
      "\n",
      "Whose sibling is bart?\n",
      "lisa, maggie, \n",
      "\n",
      "Who is(are) sibling(s) of lisa ?\n",
      "bart, maggie, \n",
      "\n",
      "\n"
     ]
    }
   ],
   "source": [
    "# Check sibling relation between bart and lisa\n",
    "sf.test_relation(\"sibling\",\"bart\",\"lisa\")"
   ]
  },
  {
   "cell_type": "code",
   "execution_count": null,
   "metadata": {},
   "outputs": [],
   "source": []
  }
 ],
 "metadata": {
  "kernelspec": {
   "display_name": "Python 3",
   "language": "python",
   "name": "python3"
  },
  "language_info": {
   "codemirror_mode": {
    "name": "ipython",
    "version": 3
   },
   "file_extension": ".py",
   "mimetype": "text/x-python",
   "name": "python",
   "nbconvert_exporter": "python",
   "pygments_lexer": "ipython3",
   "version": "3.8.5"
  }
 },
 "nbformat": 4,
 "nbformat_minor": 4
}
